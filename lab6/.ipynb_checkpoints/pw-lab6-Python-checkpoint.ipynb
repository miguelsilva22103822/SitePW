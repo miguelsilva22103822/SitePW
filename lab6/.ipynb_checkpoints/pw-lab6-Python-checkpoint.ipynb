{
 "cells": [
  {
   "attachments": {
    "image.png": {
     "image/png": "[encoded data removed]"
    }
   },
   "cell_type": "markdown",
   "metadata": {},
   "source": [
    "# Lab. 6: Python\n",
    "\n",
    "**Esta ficha deve ser resolvida e [submetida](https://moodle.ensinolusofona.pt/mod/assign/view.php?id=80679) antes da sua aula prática da semana de 23.4.**\n",
    "\n",
    "\n",
    "\n",
    "# Jupyter Notebook\n",
    "\n",
    "##  Instalação\n",
    "0. Veja o [video](https://educast.fccn.pt/vod/clips/1007vh2gz5/streaming.html?locale=en) de 1' sobre o Jupyter 👽\n",
    "1. Abra uma janela de comando (cmd) e execute o comando `python` 🐍. Certifique-se que é a versão 3. Caso contrário, descarregue do [site do Python](https://www.python.org/downloads/) a versão 3 \n",
    "2. Abra uma janela de comando (cmd) e execute o comando para instalar o Jupyter: `python -m pip install jupyter` \n",
    "3. escolha uma pasta onde queira trabalhar, e guarde nessa pasta este ficheiro Jupyter Notebook (com extensão .ipynb)\n",
    "4. na linha de comando, vá até a essa pasta e execute o comando: `jupyter notebook`, ou alternativamente `python -m notebook`\n",
    "5. O browser será aberto automáticamente, aparecendo o conteúdo da pasta, onde deverá constar a ficha de exercícios, que clicando será aberta.\n",
    "\n",
    "## Conceitos chave\n",
    "\n",
    "Um documento Jupyter Notebook é uma lista de células que podem conter código, texto (usando Markdown), expressões matemáticas, gráficos e texto enriquecido, geralmente terminando com a extensão \".ipynb\". É estruturado segundo o formato JSON. \n",
    "\n",
    "Tem dois tipos de células:\n",
    "* Markdown, para escrita de texto\n",
    "* Code, para escrita de código Python\n",
    "\n",
    "O tipo de uma determinada célula especifica-se no menu. Adicione novas células premindo no botão `+` do menu e mova-as com as setas.\n",
    "\n",
    "#### Markdown\n",
    "\n",
    "* Permite escrever em texto formatado usando Markdown, incluindo como fórmulas matemáticas. Mais informação sobre Markdown está disponível [aqui](https://towardsdatascience.com/write-markdown-latex-in-the-jupyter-notebook-10985edb91fd). Aceita marcador # para título, ## subtitulo, ..., * para bullet.\n",
    "* Para editar uma célula markdown, basta clicar duas vezes sobre o texto e verá o texto em formato Markdown.\n",
    "\n",
    "\n",
    "#### Code\n",
    "\n",
    "* Células contendo código Python. \n",
    "* O código duma célula é executado premindo Shift+Enter ou premindo a tecla Run.\n",
    "* Por vezes o Jupyter deixa de responder, devido a certo tipo de erros. Para recuperar, reinicie o kernel premindo em ![image.png](attachment:image.png)\n",
    "\n",
    "Se tiver dúvidas, consulte:\n",
    "\n",
    "* slides da aula, que têm toda a matéria necessária para a resolução desta ficha\n",
    "* [video-tutoriais](https://educast.fccn.pt/vod/channels/1fzfn2fjbd?locale=en) curtos sobre matérias específicas.\n",
    "\n"
   ]
  },
  {
   "cell_type": "markdown",
   "metadata": {},
   "source": [
    "# 1. Métodos das Strings\n",
    "\n",
    "* Em Python, cada tipo de variável é uma classe, e tem um conjunto de métodos (funções) disponíveis. \n",
    "* Com a instrução `dir(str)` pode listar os métodos existentes do tipo string.\n",
    "* `help(str.title)` permite inquirir sobre o seu funcionamento dum método (neste caso, o método `title`)."
   ]
  },
  {
   "cell_type": "markdown",
   "metadata": {},
   "source": [
    "Para os métodos em baixo indicados, veja a descrição com a função help e escreva um exemplo de utilização para o experimentar"
   ]
  },
  {
   "cell_type": "code",
   "execution_count": 2,
   "metadata": {
    "scrolled": false
   },
   "outputs": [
    {
     "name": "stdout",
     "output_type": "stream",
     "text": [
      "Help on method_descriptor:\n",
      "\n",
      "title(self, /)\n",
      "    Return a version of the string where each word is titlecased.\n",
      "    \n",
      "    More specifically, words start with uppercased characters and all remaining\n",
      "    cased characters have lower case.\n",
      "\n"
     ]
    }
   ],
   "source": [
    "help(str.title)"
   ]
  },
  {
   "cell_type": "code",
   "execution_count": 20,
   "metadata": {},
   "outputs": [
    {
     "data": {
      "text/plain": [
       "'Exercícios Introdutorios Ao Python'"
      ]
     },
     "execution_count": 20,
     "metadata": {},
     "output_type": "execute_result"
    }
   ],
   "source": [
    "# Este já está resolvido, para ver como se pretende que faça 😉\n",
    "\n",
    "# title() \n",
    "frase = \"exercícios introdutorios ao python\"\n",
    "\n",
    "frase.title() # será impresso em baixo sem precisar de print"
   ]
  },
  {
   "cell_type": "code",
   "execution_count": 8,
   "metadata": {},
   "outputs": [
    {
     "data": {
      "text/plain": [
       "'Exercícios introdutorios ao python'"
      ]
     },
     "execution_count": 8,
     "metadata": {},
     "output_type": "execute_result"
    }
   ],
   "source": [
    "#capitalize()\n",
    "frase = \"exercícios introdutorios ao python\"\n",
    "\n",
    "frase.capitalize()\n"
   ]
  },
  {
   "cell_type": "code",
   "execution_count": 9,
   "metadata": {},
   "outputs": [
    {
     "data": {
      "text/plain": [
       "['exercícios', 'introdutorios', 'ao', 'python']"
      ]
     },
     "execution_count": 9,
     "metadata": {},
     "output_type": "execute_result"
    }
   ],
   "source": [
    "#split()\n",
    "frase = \"exercícios introdutorios ao python\"\n",
    "\n",
    "frase.split()\n"
   ]
  },
  {
   "cell_type": "code",
   "execution_count": 19,
   "metadata": {
    "scrolled": true
   },
   "outputs": [
    {
     "data": {
      "text/plain": [
       "'acdb'"
      ]
     },
     "execution_count": 19,
     "metadata": {},
     "output_type": "execute_result"
    }
   ],
   "source": [
    "#join()\n",
    "frase1 = \"ab\"\n",
    "frase2 = \"cd\"\n",
    "\n",
    "frase2.join(frase1)\n"
   ]
  },
  {
   "cell_type": "code",
   "execution_count": 20,
   "metadata": {},
   "outputs": [
    {
     "data": {
      "text/plain": [
       "'@br@c@d@br@'"
      ]
     },
     "execution_count": 20,
     "metadata": {},
     "output_type": "execute_result"
    }
   ],
   "source": [
    "#replace() \n",
    "palavra = \"abracadabra\"  # substitua 'a' por '@' 😉\n",
    "\n",
    "palavra.replace('a', '@')\n"
   ]
  },
  {
   "cell_type": "code",
   "execution_count": 21,
   "metadata": {},
   "outputs": [
    {
     "data": {
      "text/plain": [
       "5"
      ]
     },
     "execution_count": 21,
     "metadata": {},
     "output_type": "execute_result"
    }
   ],
   "source": [
    "#count\n",
    "\n",
    "palavra = \"abracadabra\"  # conte quantos 'a' ocorrem em palavra 😉\n",
    "palavra.count('a')\n"
   ]
  },
  {
   "cell_type": "code",
   "execution_count": 22,
   "metadata": {},
   "outputs": [
    {
     "data": {
      "text/plain": [
       "2"
      ]
     },
     "execution_count": 22,
     "metadata": {},
     "output_type": "execute_result"
    }
   ],
   "source": [
    "#find\n",
    "\n",
    "palavra = \"abracadabra\"  # procure em que posição está a primeira letra 'r' 🧐. Se não existir retorna -1\n",
    "\n",
    "palavra.find('r')\n"
   ]
  },
  {
   "cell_type": "code",
   "execution_count": 44,
   "metadata": {},
   "outputs": [
    {
     "name": "stdout",
     "output_type": "stream",
     "text": [
      "False\n",
      "True\n"
     ]
    }
   ],
   "source": [
    "#isalnum     retorna True se só tiver carateres alfabeticos (letras) ou digitos. \n",
    "           # Se retornar False tem carateres especiais 🤓 bom para passwords fortes 💪\n",
    "forte = \"%8jd@$*\"\n",
    "fraca = \"bomdia\"\n",
    "\n",
    "\n",
    "print(forte.isalnum())\n",
    "print(fraca.isalnum())\n",
    "\n"
   ]
  },
  {
   "cell_type": "code",
   "execution_count": 50,
   "metadata": {},
   "outputs": [
    {
     "name": "stdout",
     "output_type": "stream",
     "text": [
      "True\n",
      "False\n",
      "False\n"
     ]
    }
   ],
   "source": [
    "#isalpha\n",
    "num1 = \"ola\"\n",
    "num2 = \"255\"\n",
    "num3 = \"bom dia\"\n",
    "\n",
    "print(num1.isalpha())\n",
    "print(num2.isalpha())\n",
    "print(num3.isalpha())"
   ]
  },
  {
   "cell_type": "code",
   "execution_count": 52,
   "metadata": {},
   "outputs": [
    {
     "name": "stdout",
     "output_type": "stream",
     "text": [
      "True\n",
      "False\n"
     ]
    }
   ],
   "source": [
    "#isdigit\n",
    "\n",
    "num = \"26\"\n",
    "palavra = \"batata\"\n",
    "\n",
    "print(num.isdigit())\n",
    "print(palavra.isdigit())"
   ]
  },
  {
   "cell_type": "code",
   "execution_count": 53,
   "metadata": {},
   "outputs": [
    {
     "data": {
      "text/plain": [
       "3"
      ]
     },
     "execution_count": 53,
     "metadata": {},
     "output_type": "execute_result"
    }
   ],
   "source": [
    "# função len()   - retorna numero de carateres. Usada em listas e tuplos também para ver a quantidade de elementos\n",
    "\n",
    "len('ola')"
   ]
  },
  {
   "cell_type": "markdown",
   "metadata": {},
   "source": [
    "# 2. Onomatopeia\n",
    "\n",
    "Considere os operadores sobre strings de concatenação `+` e repetição `*`:\n",
    "```Python\n",
    ">>> 'Py' + 'thon'   # concatenação\n",
    "'Python'\n",
    ">>> 'ah' * 3        # repetição\n",
    "'ahahaha'\n",
    "```\n",
    "\n",
    "Defina, usando operadores sobre strings de concatenação `+` e repetição `*`, uma string com a seguinte onomatopeia: \n",
    "\n",
    "```\n",
    "buuuuuuummmmm\n",
    "```"
   ]
  },
  {
   "cell_type": "code",
   "execution_count": 3,
   "metadata": {},
   "outputs": [
    {
     "data": {
      "text/plain": [
       "'buuuuuuummmmm'"
      ]
     },
     "execution_count": 3,
     "metadata": {},
     "output_type": "execute_result"
    }
   ],
   "source": [
    "'b' + 'u' * 7 + 'm' * 5"
   ]
  },
  {
   "cell_type": "markdown",
   "metadata": {},
   "source": [
    "# in & out: funções `input`, `eval` e `print`\n",
    "\n",
    "analise e execute as seguintes células de código"
   ]
  },
  {
   "cell_type": "code",
   "execution_count": 1,
   "metadata": {},
   "outputs": [
    {
     "name": "stdout",
     "output_type": "stream",
     "text": [
      "Insira o seu nome: Miguel\n",
      "Miguel <class 'str'>\n"
     ]
    }
   ],
   "source": [
    "nome = input(\"Insira o seu nome: \") # input retorna numa string os carateres digitados\n",
    "\n",
    "print(nome, type(nome))"
   ]
  },
  {
   "cell_type": "code",
   "execution_count": 2,
   "metadata": {},
   "outputs": [
    {
     "name": "stdout",
     "output_type": "stream",
     "text": [
      "Insira o seu ano de nascimento: 2003\n",
      "2003 <class 'int'>\n"
     ]
    }
   ],
   "source": [
    "# eval() avalia aritméticamente uma string e converte o resultado num número.\n",
    "\n",
    "ano_nascimento = eval(input(\"Insira o seu ano de nascimento: \")) \n",
    "\n",
    "print(ano_nascimento, type(ano_nascimento))"
   ]
  },
  {
   "cell_type": "code",
   "execution_count": 59,
   "metadata": {},
   "outputs": [
    {
     "data": {
      "text/plain": [
       "8"
      ]
     },
     "execution_count": 59,
     "metadata": {},
     "output_type": "execute_result"
    }
   ],
   "source": [
    "expressao = '2**3' # str com expressão aritmética. '**' é o operador potência, 2**3 = 2*2*2\n",
    "\n",
    "eval(expressao)   # eval() vai avaliar matemáticamente a expressão e retorna o resultado"
   ]
  },
  {
   "cell_type": "code",
   "execution_count": 4,
   "metadata": {},
   "outputs": [
    {
     "name": "stdout",
     "output_type": "stream",
     "text": [
      "Olá Miguel! Este ano celebras 19\n"
     ]
    }
   ],
   "source": [
    "# uma formatted string é uma string precedida pela letra f\n",
    "# permite incluir expressões entre {}\n",
    "\n",
    "frase = f\"Olá {nome}! Este ano celebras {2022 - ano_nascimento}\"\n",
    "\n",
    "print(frase)"
   ]
  },
  {
   "cell_type": "code",
   "execution_count": 6,
   "metadata": {},
   "outputs": [
    {
     "name": "stdout",
     "output_type": "stream",
     "text": [
      "SUPER CALCULADORA 🤓 (experimente 234**2345)\n",
      "Insira uma expressão aritmética: 234**2345\n"
     ]
    },
    {
     "ename": "ValueError",
     "evalue": "Exceeds the limit (4300 digits) for integer string conversion; use sys.set_int_max_str_digits() to increase the limit",
     "output_type": "error",
     "traceback": [
      "\u001b[1;31m---------------------------------------------------------------------------\u001b[0m",
      "\u001b[1;31mValueError\u001b[0m                                Traceback (most recent call last)",
      "Cell \u001b[1;32mIn[6], line 3\u001b[0m\n\u001b[0;32m      1\u001b[0m \u001b[38;5;28mprint\u001b[39m(\u001b[38;5;124m\"\u001b[39m\u001b[38;5;124mSUPER CALCULADORA 🤓 (experimente 234**2345)\u001b[39m\u001b[38;5;124m\"\u001b[39m)\n\u001b[0;32m      2\u001b[0m expressao \u001b[38;5;241m=\u001b[39m \u001b[38;5;28minput\u001b[39m(\u001b[38;5;124m\"\u001b[39m\u001b[38;5;124mInsira uma expressão aritmética: \u001b[39m\u001b[38;5;124m\"\u001b[39m)\n\u001b[1;32m----> 3\u001b[0m \u001b[38;5;28mprint\u001b[39m(\u001b[38;5;124mf\u001b[39m\u001b[38;5;124m\"\u001b[39m\u001b[38;5;132;01m{\u001b[39;00mexpressao\u001b[38;5;132;01m}\u001b[39;00m\u001b[38;5;124m = \u001b[39m\u001b[38;5;132;01m{\u001b[39;00m\u001b[38;5;28meval\u001b[39m(expressao)\u001b[38;5;132;01m}\u001b[39;00m\u001b[38;5;124m\"\u001b[39m)\n",
      "\u001b[1;31mValueError\u001b[0m: Exceeds the limit (4300 digits) for integer string conversion; use sys.set_int_max_str_digits() to increase the limit"
     ]
    }
   ],
   "source": [
    "print(\"SUPER CALCULADORA 🤓 (experimente 234**2345)\")\n",
    "expressao = input(\"Insira uma expressão aritmética: \")\n",
    "print(f\"{expressao} = {eval(expressao)}\")"
   ]
  },
  {
   "cell_type": "code",
   "execution_count": null,
   "metadata": {},
   "outputs": [],
   "source": []
  },
  {
   "cell_type": "markdown",
   "metadata": {},
   "source": [
    "# 3. Construção automática de email a partir do nome\n",
    "\n",
    "Escreva um programa que pede ao utilizador para inserir um nome completo, com vários apelidos. Construa e imprima um email. Exemplo:\n",
    "\n",
    "```\n",
    "Insira um nome completo: Manuel Sousa Silva\n",
    "Email: manuel.sousa.silva@ulusofona.pt\n",
    "```\n",
    "\n",
    "Para tal recorra aos métodos das strings tais como `replace`, `lower` e operador da concatenação `+`."
   ]
  },
  {
   "cell_type": "code",
   "execution_count": 8,
   "metadata": {},
   "outputs": [
    {
     "name": "stdout",
     "output_type": "stream",
     "text": [
      "Insira um nome completo:Miguel Silva\n",
      "miguel.silva@ulusofona.pt\n"
     ]
    }
   ],
   "source": [
    "fullname = input(\"Insira um nome completo:\")\n",
    "\n",
    "print(fullname.replace(' ', '.').lower() + \"@ulusofona.pt\")"
   ]
  },
  {
   "cell_type": "markdown",
   "metadata": {},
   "source": [
    "# 4. Frase\n",
    "\n",
    "Peça ao utilizador para inserir uma frase e indique quantas vogais esta tem (tanto maiúsculas como minúsculas). \n",
    "\n",
    "Sugestões: \n",
    "* Lembre-se que pode iterar pelos carateres de uma string com: `for letra in frase:`. \n",
    "* Utilizar o operador `in`.\n",
    "* Numa string, pode imprimir aspas se definir a frase com plicas: `print(f'A frase \"{frase}\" tem {soma} carateres')`\n",
    "\n",
    "Exemplo de funcionamento:\n",
    "\n",
    "```\n",
    "Insira uma frase: Rega as tuas plantas. Ama as tuas rosas\n",
    "A frase \"Rega as tuas plantas. Ama as tuas rosas\" tem 14 vogais\n",
    "```"
   ]
  },
  {
   "cell_type": "code",
   "execution_count": 13,
   "metadata": {
    "scrolled": true
   },
   "outputs": [
    {
     "name": "stdout",
     "output_type": "stream",
     "text": [
      "introduza uma fraseO rato roeu a rolha da garrafa do rei da Rússia\n",
      "A frase \"O rato roeu a rolha da garrafa do rei da Rússia\" tem 19 vogais\n"
     ]
    }
   ],
   "source": [
    "frase = input(\"introduza uma frase\")\n",
    "vogais = {'a','e','i','o','u'}\n",
    "\n",
    "count = 0\n",
    "\n",
    "for letra in frase:\n",
    "    if letra.lower() in vogais:\n",
    "        count += 1\n",
    "\n",
    "print(f'A frase \"{frase}\" tem {count} vogais')\n",
    "    \n",
    "\n",
    "\n"
   ]
  },
  {
   "cell_type": "markdown",
   "metadata": {},
   "source": [
    "# 5. Billboard"
   ]
  },
  {
   "cell_type": "markdown",
   "metadata": {},
   "source": [
    "Crie um programa que recebe uma string `frase` e um dígito `n`. \n",
    "Deverá aplicar uma deslocação de n caracteres para a direita (n>0) ou para a esquerda (n<0) e em seguida apresentar o resultado na consola. Uma deslocação de n caracteres consiste em mover os caracteres todos de uma string para as a posições contíguas e em que os últimos caracteres da string passam para o início.\n",
    "\n",
    "(Nota: Se se relembrar, este problema foi resolvido no ano passado em LP1 usando C. Verá como em Python é mais simles.) \n",
    "\n",
    "Exemplo:\n",
    "\n",
    "```\n",
    "Introduza uma sequencia de carateres: abcdefghi\n",
    "Introduza um inteiro: 3\n",
    "Resultado de deslocação de 3 carateres: ghiabcdef\n",
    "```\n",
    "\n",
    "Outro exemplo:\n",
    "\n",
    "```\n",
    "Introduza uma sequencia de carateres: abcdefghi\n",
    "Introduza um inteiro: -2\n",
    "Resultado de deslocação de -2 carateres: cdefghiab\n",
    "```\n",
    "\n",
    "Sugestões:\n",
    "* utilize [slices](https://moodle.ensinolusofona.pt/pluginfile.php/318343/mod_label/intro/pw-03-python-01.pdf?time=1648601467299#page=37) e [concatenação](https://moodle.ensinolusofona.pt/pluginfile.php/318343/mod_label/intro/pw-03-python-01.pdf?time=1648601467299#page=39) de strings.\n",
    "* tome atenção ao caso de o número ser maior que o comprimento da string. Nesse caso deverá fazer usar como deslocação `n % len(frase)`, pois a rotação de `len(frase)` carateres é a própria frase."
   ]
  },
  {
   "cell_type": "code",
   "execution_count": 20,
   "metadata": {},
   "outputs": [
    {
     "name": "stdout",
     "output_type": "stream",
     "text": [
      "Introduza fraseuma batata\n",
      "Introduza digito1\n",
      "ma batatau\n"
     ]
    }
   ],
   "source": [
    "frase = input(\"Introduza frase\")\n",
    "digito = input(\"Introduza digito\")\n",
    "\n",
    "newfrase = \"\"\n",
    "\n",
    "for i in range(0, len(frase)):\n",
    "    newfrase += frase[(i + int(digito)) % len(frase)]\n",
    "\n",
    "print(newfrase)"
   ]
  },
  {
   "cell_type": "code",
   "execution_count": null,
   "metadata": {},
   "outputs": [],
   "source": []
  },
  {
   "cell_type": "code",
   "execution_count": null,
   "metadata": {},
   "outputs": [],
   "source": []
  }
 ],
 "metadata": {
  "kernelspec": {
   "display_name": "Python 3 (ipykernel)",
   "language": "python",
   "name": "python3"
  },
  "language_info": {
   "codemirror_mode": {
    "name": "ipython",
    "version": 3
   },
   "file_extension": ".py",
   "mimetype": "text/x-python",
   "name": "python",
   "nbconvert_exporter": "python",
   "pygments_lexer": "ipython3",
   "version": "3.11.3"
  }
 },
 "nbformat": 4,
 "nbformat_minor": 4
}
